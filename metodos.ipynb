{
  "nbformat": 4,
  "nbformat_minor": 0,
  "metadata": {
    "colab": {
      "name": "Untitled0.ipynb",
      "provenance": [],
      "authorship_tag": "ABX9TyMOb+B6wc4d7Lbd7hDzAh6Z",
      "include_colab_link": true
    },
    "kernelspec": {
      "name": "python3",
      "display_name": "Python 3"
    }
  },
  "cells": [
    {
      "cell_type": "markdown",
      "metadata": {
        "id": "view-in-github",
        "colab_type": "text"
      },
      "source": [
        "<a href=\"https://colab.research.google.com/github/sebastian810/programacion/blob/master/metodos.ipynb\" target=\"_parent\"><img src=\"https://colab.research.google.com/assets/colab-badge.svg\" alt=\"Open In Colab\"/></a>"
      ]
    },
    {
      "cell_type": "code",
      "metadata": {
        "id": "qCbcbzSSXHRU",
        "colab_type": "code",
        "colab": {
          "base_uri": "https://localhost:8080/",
          "height": 51
        },
        "outputId": "f9aa2917-bec2-41e2-b139-e8f59ae75a20"
      },
      "source": [
        "from math import sqrt\n",
        "\n",
        "def calcularAreaT(ladoA,ladoB):\n",
        "  area=ladoA*ladoB\n",
        "  print(\"area es igual a:\",area)\n",
        "area= calcularAreaT(4,5)\n",
        "\n",
        "def calcularPerimetroT(ladoA,ladoB):\n",
        "    hipotenusa=sqrt(ladoA**2+ladoB**2)\n",
        "    perimetro= (ladoA+ladoB+hipotenusa)\n",
        "    print(\"perimetro es igual a\",perimetro)\n",
        "    \n",
        "\n",
        "l=calcularPerimetroT(4,5)"
      ],
      "execution_count": 19,
      "outputs": [
        {
          "output_type": "stream",
          "text": [
            "area es igual a: 20\n",
            "perimetro es igual a 15.403124237432849\n"
          ],
          "name": "stdout"
        }
      ]
    },
    {
      "cell_type": "code",
      "metadata": {
        "id": "J9_6iJ9aaOBS",
        "colab_type": "code",
        "colab": {}
      },
      "source": [
        ""
      ],
      "execution_count": 0,
      "outputs": []
    }
  ]
}